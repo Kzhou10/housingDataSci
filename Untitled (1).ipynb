{
 "cells": [
  {
   "cell_type": "markdown",
   "id": "ecac91fe-25a2-4387-a327-da0a70499e27",
   "metadata": {},
   "source": [
    "# **Housing Prices in Vancouver vs Calgary**"
   ]
  },
  {
   "cell_type": "code",
   "execution_count": 2,
   "id": "842a48b8-6eaf-4278-82c2-9a31f48d4e8a",
   "metadata": {},
   "outputs": [
    {
     "name": "stderr",
     "output_type": "stream",
     "text": [
      "Loading required package: Matrix\n",
      "\n",
      "Loaded glmnet 4.1-8\n",
      "\n",
      "\n",
      "Attaching package: ‘modelr’\n",
      "\n",
      "\n",
      "The following objects are masked from ‘package:mltools’:\n",
      "\n",
      "    mse, rmse\n",
      "\n",
      "\n",
      "The following object is masked from ‘package:broom’:\n",
      "\n",
      "    bootstrap\n",
      "\n",
      "\n",
      "── \u001b[1mAttaching core tidyverse packages\u001b[22m ──────────────────────── tidyverse 2.0.0 ──\n",
      "\u001b[32m✔\u001b[39m \u001b[34mdplyr    \u001b[39m 1.1.4     \u001b[32m✔\u001b[39m \u001b[34mreadr    \u001b[39m 2.1.5\n",
      "\u001b[32m✔\u001b[39m \u001b[34mforcats  \u001b[39m 1.0.0     \u001b[32m✔\u001b[39m \u001b[34mstringr  \u001b[39m 1.5.1\n",
      "\u001b[32m✔\u001b[39m \u001b[34mggplot2  \u001b[39m 3.5.1     \u001b[32m✔\u001b[39m \u001b[34mtibble   \u001b[39m 3.2.1\n",
      "\u001b[32m✔\u001b[39m \u001b[34mlubridate\u001b[39m 1.9.3     \u001b[32m✔\u001b[39m \u001b[34mtidyr    \u001b[39m 1.3.1\n",
      "\u001b[32m✔\u001b[39m \u001b[34mpurrr    \u001b[39m 1.0.2     \n",
      "── \u001b[1mConflicts\u001b[22m ────────────────────────────────────────── tidyverse_conflicts() ──\n",
      "\u001b[31m✖\u001b[39m \u001b[34mmodelr\u001b[39m::\u001b[32mbootstrap()\u001b[39m masks \u001b[34mbroom\u001b[39m::bootstrap()\n",
      "\u001b[31m✖\u001b[39m \u001b[34mdplyr\u001b[39m::\u001b[32mcombine()\u001b[39m    masks \u001b[34mgridExtra\u001b[39m::combine()\n",
      "\u001b[31m✖\u001b[39m \u001b[34mtidyr\u001b[39m::\u001b[32mexpand()\u001b[39m     masks \u001b[34mMatrix\u001b[39m::expand()\n",
      "\u001b[31m✖\u001b[39m \u001b[34mdplyr\u001b[39m::\u001b[32mfilter()\u001b[39m     masks \u001b[34mstats\u001b[39m::filter()\n",
      "\u001b[31m✖\u001b[39m \u001b[34mdplyr\u001b[39m::\u001b[32mlag()\u001b[39m        masks \u001b[34mstats\u001b[39m::lag()\n",
      "\u001b[31m✖\u001b[39m \u001b[34mmodelr\u001b[39m::\u001b[32mmse()\u001b[39m       masks \u001b[34mmltools\u001b[39m::mse()\n",
      "\u001b[31m✖\u001b[39m \u001b[34mtidyr\u001b[39m::\u001b[32mpack()\u001b[39m       masks \u001b[34mMatrix\u001b[39m::pack()\n",
      "\u001b[31m✖\u001b[39m \u001b[34mtidyr\u001b[39m::\u001b[32mreplace_na()\u001b[39m masks \u001b[34mmltools\u001b[39m::replace_na()\n",
      "\u001b[31m✖\u001b[39m \u001b[34mmodelr\u001b[39m::\u001b[32mrmse()\u001b[39m      masks \u001b[34mmltools\u001b[39m::rmse()\n",
      "\u001b[31m✖\u001b[39m \u001b[34mlubridate\u001b[39m::\u001b[32mstamp()\u001b[39m  masks \u001b[34mcowplot\u001b[39m::stamp()\n",
      "\u001b[31m✖\u001b[39m \u001b[34mtidyr\u001b[39m::\u001b[32munpack()\u001b[39m     masks \u001b[34mMatrix\u001b[39m::unpack()\n",
      "\u001b[36mℹ\u001b[39m Use the conflicted package (\u001b[3m\u001b[34m<http://conflicted.r-lib.org/>\u001b[39m\u001b[23m) to force all conflicts to become errors\n"
     ]
    }
   ],
   "source": [
    "library(broom)\n",
    "library(repr)\n",
    "library(infer)\n",
    "library(gridExtra)\n",
    "library(faraway)\n",
    "library(mltools)\n",
    "library(leaps)\n",
    "library(glmnet)\n",
    "library(cowplot)\n",
    "library(modelr)\n",
    "library(tidyverse)\n"
   ]
  },
  {
   "cell_type": "code",
   "execution_count": 3,
   "id": "8314cc36-2a38-473a-b609-a7818cb69bd6",
   "metadata": {},
   "outputs": [
    {
     "data": {
      "text/html": [
       "<table class=\"dataframe\">\n",
       "<caption>A data.frame: 6 × 17</caption>\n",
       "<thead>\n",
       "\t<tr><th></th><th scope=col>rentfaster_id</th><th scope=col>city</th><th scope=col>province</th><th scope=col>address</th><th scope=col>latitude</th><th scope=col>longitude</th><th scope=col>lease_term</th><th scope=col>type</th><th scope=col>price</th><th scope=col>beds</th><th scope=col>baths</th><th scope=col>sq_feet</th><th scope=col>furnishing</th><th scope=col>availability_date</th><th scope=col>smoking</th><th scope=col>cats</th><th scope=col>dogs</th></tr>\n",
       "\t<tr><th></th><th scope=col>&lt;int&gt;</th><th scope=col>&lt;chr&gt;</th><th scope=col>&lt;chr&gt;</th><th scope=col>&lt;chr&gt;</th><th scope=col>&lt;dbl&gt;</th><th scope=col>&lt;dbl&gt;</th><th scope=col>&lt;chr&gt;</th><th scope=col>&lt;chr&gt;</th><th scope=col>&lt;dbl&gt;</th><th scope=col>&lt;chr&gt;</th><th scope=col>&lt;chr&gt;</th><th scope=col>&lt;chr&gt;</th><th scope=col>&lt;chr&gt;</th><th scope=col>&lt;chr&gt;</th><th scope=col>&lt;chr&gt;</th><th scope=col>&lt;chr&gt;</th><th scope=col>&lt;chr&gt;</th></tr>\n",
       "</thead>\n",
       "<tbody>\n",
       "\t<tr><th scope=row>1</th><td>468622</td><td>Airdrie</td><td>Alberta</td><td>69 Gateway Dr NE</td><td>51.30596</td><td>-114.0125</td><td>Long Term</td><td>Townhouse</td><td>2495</td><td>2 Beds</td><td>2.5</td><td>1403</td><td>Unfurnished</td><td>Immediate  </td><td>Non-Smoking</td><td>True</td><td>True</td></tr>\n",
       "\t<tr><th scope=row>2</th><td>468622</td><td>Airdrie</td><td>Alberta</td><td>69 Gateway Dr NE</td><td>51.30596</td><td>-114.0125</td><td>Long Term</td><td>Townhouse</td><td>2695</td><td>3 Beds</td><td>2.5</td><td>1496</td><td>Unfurnished</td><td>Immediate  </td><td>Non-Smoking</td><td>True</td><td>True</td></tr>\n",
       "\t<tr><th scope=row>3</th><td>468622</td><td>Airdrie</td><td>Alberta</td><td>69 Gateway Dr NE</td><td>51.30596</td><td>-114.0125</td><td>Long Term</td><td>Townhouse</td><td>2295</td><td>2 Beds</td><td>2.5</td><td>1180</td><td>Unfurnished</td><td>Immediate  </td><td>Non-Smoking</td><td>True</td><td>True</td></tr>\n",
       "\t<tr><th scope=row>4</th><td>468622</td><td>Airdrie</td><td>Alberta</td><td>69 Gateway Dr NE</td><td>51.30596</td><td>-114.0125</td><td>Long Term</td><td>Townhouse</td><td>2095</td><td>2 Beds</td><td>2.5</td><td>1403</td><td>Unfurnished</td><td>November 18</td><td>Non-Smoking</td><td>True</td><td>True</td></tr>\n",
       "\t<tr><th scope=row>5</th><td>468622</td><td>Airdrie</td><td>Alberta</td><td>69 Gateway Dr NE</td><td>51.30596</td><td>-114.0125</td><td>Long Term</td><td>Townhouse</td><td>2495</td><td>2 Beds</td><td>2.5</td><td>1403</td><td>Unfurnished</td><td>Immediate  </td><td>Non-Smoking</td><td>True</td><td>True</td></tr>\n",
       "\t<tr><th scope=row>6</th><td>468622</td><td>Airdrie</td><td>Alberta</td><td>69 Gateway Dr NE</td><td>51.30596</td><td>-114.0125</td><td>Long Term</td><td>Townhouse</td><td>2095</td><td>2 Beds</td><td>2.5</td><td>1403</td><td>Unfurnished</td><td>November 18</td><td>Non-Smoking</td><td>True</td><td>True</td></tr>\n",
       "</tbody>\n",
       "</table>\n"
      ],
      "text/latex": [
       "A data.frame: 6 × 17\n",
       "\\begin{tabular}{r|lllllllllllllllll}\n",
       "  & rentfaster\\_id & city & province & address & latitude & longitude & lease\\_term & type & price & beds & baths & sq\\_feet & furnishing & availability\\_date & smoking & cats & dogs\\\\\n",
       "  & <int> & <chr> & <chr> & <chr> & <dbl> & <dbl> & <chr> & <chr> & <dbl> & <chr> & <chr> & <chr> & <chr> & <chr> & <chr> & <chr> & <chr>\\\\\n",
       "\\hline\n",
       "\t1 & 468622 & Airdrie & Alberta & 69 Gateway Dr NE & 51.30596 & -114.0125 & Long Term & Townhouse & 2495 & 2 Beds & 2.5 & 1403 & Unfurnished & Immediate   & Non-Smoking & True & True\\\\\n",
       "\t2 & 468622 & Airdrie & Alberta & 69 Gateway Dr NE & 51.30596 & -114.0125 & Long Term & Townhouse & 2695 & 3 Beds & 2.5 & 1496 & Unfurnished & Immediate   & Non-Smoking & True & True\\\\\n",
       "\t3 & 468622 & Airdrie & Alberta & 69 Gateway Dr NE & 51.30596 & -114.0125 & Long Term & Townhouse & 2295 & 2 Beds & 2.5 & 1180 & Unfurnished & Immediate   & Non-Smoking & True & True\\\\\n",
       "\t4 & 468622 & Airdrie & Alberta & 69 Gateway Dr NE & 51.30596 & -114.0125 & Long Term & Townhouse & 2095 & 2 Beds & 2.5 & 1403 & Unfurnished & November 18 & Non-Smoking & True & True\\\\\n",
       "\t5 & 468622 & Airdrie & Alberta & 69 Gateway Dr NE & 51.30596 & -114.0125 & Long Term & Townhouse & 2495 & 2 Beds & 2.5 & 1403 & Unfurnished & Immediate   & Non-Smoking & True & True\\\\\n",
       "\t6 & 468622 & Airdrie & Alberta & 69 Gateway Dr NE & 51.30596 & -114.0125 & Long Term & Townhouse & 2095 & 2 Beds & 2.5 & 1403 & Unfurnished & November 18 & Non-Smoking & True & True\\\\\n",
       "\\end{tabular}\n"
      ],
      "text/markdown": [
       "\n",
       "A data.frame: 6 × 17\n",
       "\n",
       "| <!--/--> | rentfaster_id &lt;int&gt; | city &lt;chr&gt; | province &lt;chr&gt; | address &lt;chr&gt; | latitude &lt;dbl&gt; | longitude &lt;dbl&gt; | lease_term &lt;chr&gt; | type &lt;chr&gt; | price &lt;dbl&gt; | beds &lt;chr&gt; | baths &lt;chr&gt; | sq_feet &lt;chr&gt; | furnishing &lt;chr&gt; | availability_date &lt;chr&gt; | smoking &lt;chr&gt; | cats &lt;chr&gt; | dogs &lt;chr&gt; |\n",
       "|---|---|---|---|---|---|---|---|---|---|---|---|---|---|---|---|---|---|\n",
       "| 1 | 468622 | Airdrie | Alberta | 69 Gateway Dr NE | 51.30596 | -114.0125 | Long Term | Townhouse | 2495 | 2 Beds | 2.5 | 1403 | Unfurnished | Immediate   | Non-Smoking | True | True |\n",
       "| 2 | 468622 | Airdrie | Alberta | 69 Gateway Dr NE | 51.30596 | -114.0125 | Long Term | Townhouse | 2695 | 3 Beds | 2.5 | 1496 | Unfurnished | Immediate   | Non-Smoking | True | True |\n",
       "| 3 | 468622 | Airdrie | Alberta | 69 Gateway Dr NE | 51.30596 | -114.0125 | Long Term | Townhouse | 2295 | 2 Beds | 2.5 | 1180 | Unfurnished | Immediate   | Non-Smoking | True | True |\n",
       "| 4 | 468622 | Airdrie | Alberta | 69 Gateway Dr NE | 51.30596 | -114.0125 | Long Term | Townhouse | 2095 | 2 Beds | 2.5 | 1403 | Unfurnished | November 18 | Non-Smoking | True | True |\n",
       "| 5 | 468622 | Airdrie | Alberta | 69 Gateway Dr NE | 51.30596 | -114.0125 | Long Term | Townhouse | 2495 | 2 Beds | 2.5 | 1403 | Unfurnished | Immediate   | Non-Smoking | True | True |\n",
       "| 6 | 468622 | Airdrie | Alberta | 69 Gateway Dr NE | 51.30596 | -114.0125 | Long Term | Townhouse | 2095 | 2 Beds | 2.5 | 1403 | Unfurnished | November 18 | Non-Smoking | True | True |\n",
       "\n"
      ],
      "text/plain": [
       "  rentfaster_id city    province address          latitude longitude lease_term\n",
       "1 468622        Airdrie Alberta  69 Gateway Dr NE 51.30596 -114.0125 Long Term \n",
       "2 468622        Airdrie Alberta  69 Gateway Dr NE 51.30596 -114.0125 Long Term \n",
       "3 468622        Airdrie Alberta  69 Gateway Dr NE 51.30596 -114.0125 Long Term \n",
       "4 468622        Airdrie Alberta  69 Gateway Dr NE 51.30596 -114.0125 Long Term \n",
       "5 468622        Airdrie Alberta  69 Gateway Dr NE 51.30596 -114.0125 Long Term \n",
       "6 468622        Airdrie Alberta  69 Gateway Dr NE 51.30596 -114.0125 Long Term \n",
       "  type      price beds   baths sq_feet furnishing  availability_date\n",
       "1 Townhouse 2495  2 Beds 2.5   1403    Unfurnished Immediate        \n",
       "2 Townhouse 2695  3 Beds 2.5   1496    Unfurnished Immediate        \n",
       "3 Townhouse 2295  2 Beds 2.5   1180    Unfurnished Immediate        \n",
       "4 Townhouse 2095  2 Beds 2.5   1403    Unfurnished November 18      \n",
       "5 Townhouse 2495  2 Beds 2.5   1403    Unfurnished Immediate        \n",
       "6 Townhouse 2095  2 Beds 2.5   1403    Unfurnished November 18      \n",
       "  smoking     cats dogs\n",
       "1 Non-Smoking True True\n",
       "2 Non-Smoking True True\n",
       "3 Non-Smoking True True\n",
       "4 Non-Smoking True True\n",
       "5 Non-Smoking True True\n",
       "6 Non-Smoking True True"
      ]
     },
     "metadata": {},
     "output_type": "display_data"
    }
   ],
   "source": [
    "CanadaRent_dataset <- read.csv(\"rentfaster.csv\") %>%\n",
    "select(-link)\n",
    "\n",
    "head(CanadaRent_dataset)"
   ]
  },
  {
   "cell_type": "markdown",
   "id": "376b9276-63e3-4099-a3dd-1b9358820f7c",
   "metadata": {},
   "source": [
    "### Project objective:\n",
    "\n",
    "The"
   ]
  },
  {
   "cell_type": "code",
   "execution_count": 5,
   "id": "22a96a7c-c2b1-4998-9f0c-e7cc94ee2144",
   "metadata": {},
   "outputs": [
    {
     "data": {
      "text/html": [
       "<table class=\"dataframe\">\n",
       "<caption>A data.frame: 3 × 17</caption>\n",
       "<thead>\n",
       "\t<tr><th></th><th scope=col>rentfaster_id</th><th scope=col>city</th><th scope=col>province</th><th scope=col>address</th><th scope=col>latitude</th><th scope=col>longitude</th><th scope=col>lease_term</th><th scope=col>type</th><th scope=col>price</th><th scope=col>beds</th><th scope=col>baths</th><th scope=col>sq_feet</th><th scope=col>furnishing</th><th scope=col>availability_date</th><th scope=col>smoking</th><th scope=col>cats</th><th scope=col>dogs</th></tr>\n",
       "\t<tr><th></th><th scope=col>&lt;int&gt;</th><th scope=col>&lt;chr&gt;</th><th scope=col>&lt;chr&gt;</th><th scope=col>&lt;chr&gt;</th><th scope=col>&lt;dbl&gt;</th><th scope=col>&lt;dbl&gt;</th><th scope=col>&lt;chr&gt;</th><th scope=col>&lt;chr&gt;</th><th scope=col>&lt;dbl&gt;</th><th scope=col>&lt;chr&gt;</th><th scope=col>&lt;chr&gt;</th><th scope=col>&lt;chr&gt;</th><th scope=col>&lt;chr&gt;</th><th scope=col>&lt;chr&gt;</th><th scope=col>&lt;chr&gt;</th><th scope=col>&lt;chr&gt;</th><th scope=col>&lt;chr&gt;</th></tr>\n",
       "</thead>\n",
       "<tbody>\n",
       "\t<tr><th scope=row>1</th><td>571702</td><td>Calgary</td><td>Alberta</td><td>1055 11 Street SW</td><td>51.04338</td><td>-114.089</td><td>Long Term</td><td>Apartment</td><td>1725</td><td>1 Bed </td><td>1</td><td>483</td><td>Unfurnished</td><td>Immediate</td><td>Non-Smoking</td><td>True</td><td>True</td></tr>\n",
       "\t<tr><th scope=row>2</th><td>571702</td><td>Calgary</td><td>Alberta</td><td>1055 11 Street SW</td><td>51.04338</td><td>-114.089</td><td>Long Term</td><td>Apartment</td><td>1875</td><td>1 Bed </td><td>1</td><td>527</td><td>Unfurnished</td><td>Immediate</td><td>Non-Smoking</td><td>True</td><td>True</td></tr>\n",
       "\t<tr><th scope=row>3</th><td>571702</td><td>Calgary</td><td>Alberta</td><td>1055 11 Street SW</td><td>51.04338</td><td>-114.089</td><td>Long Term</td><td>Apartment</td><td>2400</td><td>2 Beds</td><td>2</td><td>854</td><td>Unfurnished</td><td>Immediate</td><td>Non-Smoking</td><td>True</td><td>True</td></tr>\n",
       "</tbody>\n",
       "</table>\n"
      ],
      "text/latex": [
       "A data.frame: 3 × 17\n",
       "\\begin{tabular}{r|lllllllllllllllll}\n",
       "  & rentfaster\\_id & city & province & address & latitude & longitude & lease\\_term & type & price & beds & baths & sq\\_feet & furnishing & availability\\_date & smoking & cats & dogs\\\\\n",
       "  & <int> & <chr> & <chr> & <chr> & <dbl> & <dbl> & <chr> & <chr> & <dbl> & <chr> & <chr> & <chr> & <chr> & <chr> & <chr> & <chr> & <chr>\\\\\n",
       "\\hline\n",
       "\t1 & 571702 & Calgary & Alberta & 1055 11 Street SW & 51.04338 & -114.089 & Long Term & Apartment & 1725 & 1 Bed  & 1 & 483 & Unfurnished & Immediate & Non-Smoking & True & True\\\\\n",
       "\t2 & 571702 & Calgary & Alberta & 1055 11 Street SW & 51.04338 & -114.089 & Long Term & Apartment & 1875 & 1 Bed  & 1 & 527 & Unfurnished & Immediate & Non-Smoking & True & True\\\\\n",
       "\t3 & 571702 & Calgary & Alberta & 1055 11 Street SW & 51.04338 & -114.089 & Long Term & Apartment & 2400 & 2 Beds & 2 & 854 & Unfurnished & Immediate & Non-Smoking & True & True\\\\\n",
       "\\end{tabular}\n"
      ],
      "text/markdown": [
       "\n",
       "A data.frame: 3 × 17\n",
       "\n",
       "| <!--/--> | rentfaster_id &lt;int&gt; | city &lt;chr&gt; | province &lt;chr&gt; | address &lt;chr&gt; | latitude &lt;dbl&gt; | longitude &lt;dbl&gt; | lease_term &lt;chr&gt; | type &lt;chr&gt; | price &lt;dbl&gt; | beds &lt;chr&gt; | baths &lt;chr&gt; | sq_feet &lt;chr&gt; | furnishing &lt;chr&gt; | availability_date &lt;chr&gt; | smoking &lt;chr&gt; | cats &lt;chr&gt; | dogs &lt;chr&gt; |\n",
       "|---|---|---|---|---|---|---|---|---|---|---|---|---|---|---|---|---|---|\n",
       "| 1 | 571702 | Calgary | Alberta | 1055 11 Street SW | 51.04338 | -114.089 | Long Term | Apartment | 1725 | 1 Bed  | 1 | 483 | Unfurnished | Immediate | Non-Smoking | True | True |\n",
       "| 2 | 571702 | Calgary | Alberta | 1055 11 Street SW | 51.04338 | -114.089 | Long Term | Apartment | 1875 | 1 Bed  | 1 | 527 | Unfurnished | Immediate | Non-Smoking | True | True |\n",
       "| 3 | 571702 | Calgary | Alberta | 1055 11 Street SW | 51.04338 | -114.089 | Long Term | Apartment | 2400 | 2 Beds | 2 | 854 | Unfurnished | Immediate | Non-Smoking | True | True |\n",
       "\n"
      ],
      "text/plain": [
       "  rentfaster_id city    province address           latitude longitude\n",
       "1 571702        Calgary Alberta  1055 11 Street SW 51.04338 -114.089 \n",
       "2 571702        Calgary Alberta  1055 11 Street SW 51.04338 -114.089 \n",
       "3 571702        Calgary Alberta  1055 11 Street SW 51.04338 -114.089 \n",
       "  lease_term type      price beds   baths sq_feet furnishing  availability_date\n",
       "1 Long Term  Apartment 1725  1 Bed  1     483     Unfurnished Immediate        \n",
       "2 Long Term  Apartment 1875  1 Bed  1     527     Unfurnished Immediate        \n",
       "3 Long Term  Apartment 2400  2 Beds 2     854     Unfurnished Immediate        \n",
       "  smoking     cats dogs\n",
       "1 Non-Smoking True True\n",
       "2 Non-Smoking True True\n",
       "3 Non-Smoking True True"
      ]
     },
     "metadata": {},
     "output_type": "display_data"
    },
    {
     "data": {
      "text/html": [
       "9836"
      ],
      "text/latex": [
       "9836"
      ],
      "text/markdown": [
       "9836"
      ],
      "text/plain": [
       "[1] 9836"
      ]
     },
     "metadata": {},
     "output_type": "display_data"
    }
   ],
   "source": [
    "Calgary_rent <- CanadaRent_dataset%>%\n",
    "filter(city == \"Calgary\")\n",
    "\n",
    "head(Calgary_rent, 3)\n",
    "nrow(Calgary_rent)"
   ]
  },
  {
   "cell_type": "code",
   "execution_count": 6,
   "id": "fe0507c6-fdc6-4ff0-af95-7c850bd0424e",
   "metadata": {},
   "outputs": [
    {
     "data": {
      "text/html": [
       "<table class=\"dataframe\">\n",
       "<caption>A data.frame: 3 × 17</caption>\n",
       "<thead>\n",
       "\t<tr><th></th><th scope=col>rentfaster_id</th><th scope=col>city</th><th scope=col>province</th><th scope=col>address</th><th scope=col>latitude</th><th scope=col>longitude</th><th scope=col>lease_term</th><th scope=col>type</th><th scope=col>price</th><th scope=col>beds</th><th scope=col>baths</th><th scope=col>sq_feet</th><th scope=col>furnishing</th><th scope=col>availability_date</th><th scope=col>smoking</th><th scope=col>cats</th><th scope=col>dogs</th></tr>\n",
       "\t<tr><th></th><th scope=col>&lt;int&gt;</th><th scope=col>&lt;chr&gt;</th><th scope=col>&lt;chr&gt;</th><th scope=col>&lt;chr&gt;</th><th scope=col>&lt;dbl&gt;</th><th scope=col>&lt;dbl&gt;</th><th scope=col>&lt;chr&gt;</th><th scope=col>&lt;chr&gt;</th><th scope=col>&lt;dbl&gt;</th><th scope=col>&lt;chr&gt;</th><th scope=col>&lt;chr&gt;</th><th scope=col>&lt;chr&gt;</th><th scope=col>&lt;chr&gt;</th><th scope=col>&lt;chr&gt;</th><th scope=col>&lt;chr&gt;</th><th scope=col>&lt;chr&gt;</th><th scope=col>&lt;chr&gt;</th></tr>\n",
       "</thead>\n",
       "<tbody>\n",
       "\t<tr><th scope=row>1</th><td>544095</td><td>Vancouver</td><td>British Columbia</td><td>1770 Pendrell Street</td><td>49.28746</td><td>-123.1405</td><td>Long Term</td><td>Apartment</td><td>3895</td><td>2 Beds</td><td>2</td><td>820</td><td>Unfurnished</td><td>Immediate</td><td>Non-Smoking</td><td>True</td><td>True</td></tr>\n",
       "\t<tr><th scope=row>2</th><td>544095</td><td>Vancouver</td><td>British Columbia</td><td>1770 Pendrell Street</td><td>49.28746</td><td>-123.1405</td><td>Long Term</td><td>Apartment</td><td>2695</td><td>Studio</td><td>1</td><td>440</td><td>Unfurnished</td><td>Immediate</td><td>Non-Smoking</td><td>True</td><td>True</td></tr>\n",
       "\t<tr><th scope=row>3</th><td>544095</td><td>Vancouver</td><td>British Columbia</td><td>1770 Pendrell Street</td><td>49.28746</td><td>-123.1405</td><td>Long Term</td><td>Apartment</td><td>4395</td><td>2 Beds</td><td>2</td><td>   </td><td>Unfurnished</td><td>Immediate</td><td>Non-Smoking</td><td>True</td><td>True</td></tr>\n",
       "</tbody>\n",
       "</table>\n"
      ],
      "text/latex": [
       "A data.frame: 3 × 17\n",
       "\\begin{tabular}{r|lllllllllllllllll}\n",
       "  & rentfaster\\_id & city & province & address & latitude & longitude & lease\\_term & type & price & beds & baths & sq\\_feet & furnishing & availability\\_date & smoking & cats & dogs\\\\\n",
       "  & <int> & <chr> & <chr> & <chr> & <dbl> & <dbl> & <chr> & <chr> & <dbl> & <chr> & <chr> & <chr> & <chr> & <chr> & <chr> & <chr> & <chr>\\\\\n",
       "\\hline\n",
       "\t1 & 544095 & Vancouver & British Columbia & 1770 Pendrell Street & 49.28746 & -123.1405 & Long Term & Apartment & 3895 & 2 Beds & 2 & 820 & Unfurnished & Immediate & Non-Smoking & True & True\\\\\n",
       "\t2 & 544095 & Vancouver & British Columbia & 1770 Pendrell Street & 49.28746 & -123.1405 & Long Term & Apartment & 2695 & Studio & 1 & 440 & Unfurnished & Immediate & Non-Smoking & True & True\\\\\n",
       "\t3 & 544095 & Vancouver & British Columbia & 1770 Pendrell Street & 49.28746 & -123.1405 & Long Term & Apartment & 4395 & 2 Beds & 2 &     & Unfurnished & Immediate & Non-Smoking & True & True\\\\\n",
       "\\end{tabular}\n"
      ],
      "text/markdown": [
       "\n",
       "A data.frame: 3 × 17\n",
       "\n",
       "| <!--/--> | rentfaster_id &lt;int&gt; | city &lt;chr&gt; | province &lt;chr&gt; | address &lt;chr&gt; | latitude &lt;dbl&gt; | longitude &lt;dbl&gt; | lease_term &lt;chr&gt; | type &lt;chr&gt; | price &lt;dbl&gt; | beds &lt;chr&gt; | baths &lt;chr&gt; | sq_feet &lt;chr&gt; | furnishing &lt;chr&gt; | availability_date &lt;chr&gt; | smoking &lt;chr&gt; | cats &lt;chr&gt; | dogs &lt;chr&gt; |\n",
       "|---|---|---|---|---|---|---|---|---|---|---|---|---|---|---|---|---|---|\n",
       "| 1 | 544095 | Vancouver | British Columbia | 1770 Pendrell Street | 49.28746 | -123.1405 | Long Term | Apartment | 3895 | 2 Beds | 2 | 820 | Unfurnished | Immediate | Non-Smoking | True | True |\n",
       "| 2 | 544095 | Vancouver | British Columbia | 1770 Pendrell Street | 49.28746 | -123.1405 | Long Term | Apartment | 2695 | Studio | 1 | 440 | Unfurnished | Immediate | Non-Smoking | True | True |\n",
       "| 3 | 544095 | Vancouver | British Columbia | 1770 Pendrell Street | 49.28746 | -123.1405 | Long Term | Apartment | 4395 | 2 Beds | 2 | <!----> | Unfurnished | Immediate | Non-Smoking | True | True |\n",
       "\n"
      ],
      "text/plain": [
       "  rentfaster_id city      province         address              latitude\n",
       "1 544095        Vancouver British Columbia 1770 Pendrell Street 49.28746\n",
       "2 544095        Vancouver British Columbia 1770 Pendrell Street 49.28746\n",
       "3 544095        Vancouver British Columbia 1770 Pendrell Street 49.28746\n",
       "  longitude lease_term type      price beds   baths sq_feet furnishing \n",
       "1 -123.1405 Long Term  Apartment 3895  2 Beds 2     820     Unfurnished\n",
       "2 -123.1405 Long Term  Apartment 2695  Studio 1     440     Unfurnished\n",
       "3 -123.1405 Long Term  Apartment 4395  2 Beds 2             Unfurnished\n",
       "  availability_date smoking     cats dogs\n",
       "1 Immediate         Non-Smoking True True\n",
       "2 Immediate         Non-Smoking True True\n",
       "3 Immediate         Non-Smoking True True"
      ]
     },
     "metadata": {},
     "output_type": "display_data"
    },
    {
     "data": {
      "text/html": [
       "196"
      ],
      "text/latex": [
       "196"
      ],
      "text/markdown": [
       "196"
      ],
      "text/plain": [
       "[1] 196"
      ]
     },
     "metadata": {},
     "output_type": "display_data"
    }
   ],
   "source": [
    "Vancouver_rent <- CanadaRent_dataset%>%\n",
    "filter(city == \"Vancouver\")\n",
    "\n",
    "head(Vancouver_rent, 3)\n",
    "\n",
    "nrow(Vancouver_rent)"
   ]
  },
  {
   "cell_type": "markdown",
   "id": "e54d6b2b-9403-417b-9d48-08741c8f25fa",
   "metadata": {},
   "source": [
    "Determine if the averages are the same\n",
    "\n",
    "\n",
    "Use hypothesis testing to determine if the average housing prices are the same. The null hypothesis is that the averages are the same and the alternative hypothesis is that vancouver housing is more expensive than calgary. \n",
    "\n",
    "take sample size of 50 for both cities\n",
    "\n",
    "independent t test\n",
    "\n",
    "significance level 0.05"
   ]
  },
  {
   "cell_type": "code",
   "execution_count": null,
   "id": "430b1a1e-5e64-4cf3-ab9e-363ac1ab4904",
   "metadata": {},
   "outputs": [],
   "source": []
  }
 ],
 "metadata": {
  "kernelspec": {
   "display_name": "R",
   "language": "R",
   "name": "ir"
  },
  "language_info": {
   "codemirror_mode": "r",
   "file_extension": ".r",
   "mimetype": "text/x-r-source",
   "name": "R",
   "pygments_lexer": "r",
   "version": "4.3.3"
  }
 },
 "nbformat": 4,
 "nbformat_minor": 5
}
