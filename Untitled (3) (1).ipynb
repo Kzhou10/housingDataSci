{
 "cells": [
  {
   "cell_type": "markdown",
   "id": "ecac91fe-25a2-4387-a327-da0a70499e27",
   "metadata": {},
   "source": [
    "# **Housing Prices in Vancouver vs Calgary**"
   ]
  },
  {
   "cell_type": "code",
   "execution_count": 2,
   "id": "842a48b8-6eaf-4278-82c2-9a31f48d4e8a",
   "metadata": {},
   "outputs": [
    {
     "name": "stderr",
     "output_type": "stream",
     "text": [
      "Loading required package: Matrix\n",
      "\n",
      "Loaded glmnet 4.1-8\n",
      "\n",
      "\n",
      "Attaching package: ‘modelr’\n",
      "\n",
      "\n",
      "The following object is masked from ‘package:broom’:\n",
      "\n",
      "    bootstrap\n",
      "\n",
      "\n",
      "Warning message:\n",
      "“package ‘lubridate’ was built under R version 4.4.2”\n",
      "── \u001b[1mAttaching core tidyverse packages\u001b[22m ──────────────────────── tidyverse 2.0.0 ──\n",
      "\u001b[32m✔\u001b[39m \u001b[34mdplyr    \u001b[39m 1.1.4     \u001b[32m✔\u001b[39m \u001b[34mreadr    \u001b[39m 2.1.5\n",
      "\u001b[32m✔\u001b[39m \u001b[34mforcats  \u001b[39m 1.0.0     \u001b[32m✔\u001b[39m \u001b[34mstringr  \u001b[39m 1.5.1\n",
      "\u001b[32m✔\u001b[39m \u001b[34mggplot2  \u001b[39m 3.5.1     \u001b[32m✔\u001b[39m \u001b[34mtibble   \u001b[39m 3.2.1\n",
      "\u001b[32m✔\u001b[39m \u001b[34mlubridate\u001b[39m 1.9.4     \u001b[32m✔\u001b[39m \u001b[34mtidyr    \u001b[39m 1.3.1\n",
      "\u001b[32m✔\u001b[39m \u001b[34mpurrr    \u001b[39m 1.0.2     \n",
      "── \u001b[1mConflicts\u001b[22m ────────────────────────────────────────── tidyverse_conflicts() ──\n",
      "\u001b[31m✖\u001b[39m \u001b[34mmodelr\u001b[39m::\u001b[32mbootstrap()\u001b[39m masks \u001b[34mbroom\u001b[39m::bootstrap()\n",
      "\u001b[31m✖\u001b[39m \u001b[34mdplyr\u001b[39m::\u001b[32mcombine()\u001b[39m    masks \u001b[34mgridExtra\u001b[39m::combine()\n",
      "\u001b[31m✖\u001b[39m \u001b[34mtidyr\u001b[39m::\u001b[32mexpand()\u001b[39m     masks \u001b[34mMatrix\u001b[39m::expand()\n",
      "\u001b[31m✖\u001b[39m \u001b[34mdplyr\u001b[39m::\u001b[32mfilter()\u001b[39m     masks \u001b[34mstats\u001b[39m::filter()\n",
      "\u001b[31m✖\u001b[39m \u001b[34mdplyr\u001b[39m::\u001b[32mlag()\u001b[39m        masks \u001b[34mstats\u001b[39m::lag()\n",
      "\u001b[31m✖\u001b[39m \u001b[34mtidyr\u001b[39m::\u001b[32mpack()\u001b[39m       masks \u001b[34mMatrix\u001b[39m::pack()\n",
      "\u001b[31m✖\u001b[39m \u001b[34mlubridate\u001b[39m::\u001b[32mstamp()\u001b[39m  masks \u001b[34mcowplot\u001b[39m::stamp()\n",
      "\u001b[31m✖\u001b[39m \u001b[34mtidyr\u001b[39m::\u001b[32munpack()\u001b[39m     masks \u001b[34mMatrix\u001b[39m::unpack()\n",
      "\u001b[36mℹ\u001b[39m Use the conflicted package (\u001b[3m\u001b[34m<http://conflicted.r-lib.org/>\u001b[39m\u001b[23m) to force all conflicts to become errors\n"
     ]
    }
   ],
   "source": [
    "library(broom)\n",
    "library(repr)\n",
    "library(gridExtra)\n",
    "library(glmnet)\n",
    "library(cowplot)\n",
    "library(modelr)\n",
    "library(tidyverse)\n"
   ]
  },
  {
   "cell_type": "code",
   "execution_count": 3,
   "id": "8314cc36-2a38-473a-b609-a7818cb69bd6",
   "metadata": {},
   "outputs": [
    {
     "data": {
      "text/html": [
       "<table class=\"dataframe\">\n",
       "<caption>A data.frame: 6 × 17</caption>\n",
       "<thead>\n",
       "\t<tr><th></th><th scope=col>rentfaster_id</th><th scope=col>city</th><th scope=col>province</th><th scope=col>address</th><th scope=col>latitude</th><th scope=col>longitude</th><th scope=col>lease_term</th><th scope=col>type</th><th scope=col>price</th><th scope=col>beds</th><th scope=col>baths</th><th scope=col>sq_feet</th><th scope=col>furnishing</th><th scope=col>availability_date</th><th scope=col>smoking</th><th scope=col>cats</th><th scope=col>dogs</th></tr>\n",
       "\t<tr><th></th><th scope=col>&lt;int&gt;</th><th scope=col>&lt;chr&gt;</th><th scope=col>&lt;chr&gt;</th><th scope=col>&lt;chr&gt;</th><th scope=col>&lt;dbl&gt;</th><th scope=col>&lt;dbl&gt;</th><th scope=col>&lt;chr&gt;</th><th scope=col>&lt;chr&gt;</th><th scope=col>&lt;dbl&gt;</th><th scope=col>&lt;chr&gt;</th><th scope=col>&lt;chr&gt;</th><th scope=col>&lt;chr&gt;</th><th scope=col>&lt;chr&gt;</th><th scope=col>&lt;chr&gt;</th><th scope=col>&lt;chr&gt;</th><th scope=col>&lt;chr&gt;</th><th scope=col>&lt;chr&gt;</th></tr>\n",
       "</thead>\n",
       "<tbody>\n",
       "\t<tr><th scope=row>1</th><td>468622</td><td>Airdrie</td><td>Alberta</td><td>69 Gateway Dr NE</td><td>51.30596</td><td>-114.0125</td><td>Long Term</td><td>Townhouse</td><td>2495</td><td>2 Beds</td><td>2.5</td><td>1403</td><td>Unfurnished</td><td>Immediate  </td><td>Non-Smoking</td><td>True</td><td>True</td></tr>\n",
       "\t<tr><th scope=row>2</th><td>468622</td><td>Airdrie</td><td>Alberta</td><td>69 Gateway Dr NE</td><td>51.30596</td><td>-114.0125</td><td>Long Term</td><td>Townhouse</td><td>2695</td><td>3 Beds</td><td>2.5</td><td>1496</td><td>Unfurnished</td><td>Immediate  </td><td>Non-Smoking</td><td>True</td><td>True</td></tr>\n",
       "\t<tr><th scope=row>3</th><td>468622</td><td>Airdrie</td><td>Alberta</td><td>69 Gateway Dr NE</td><td>51.30596</td><td>-114.0125</td><td>Long Term</td><td>Townhouse</td><td>2295</td><td>2 Beds</td><td>2.5</td><td>1180</td><td>Unfurnished</td><td>Immediate  </td><td>Non-Smoking</td><td>True</td><td>True</td></tr>\n",
       "\t<tr><th scope=row>4</th><td>468622</td><td>Airdrie</td><td>Alberta</td><td>69 Gateway Dr NE</td><td>51.30596</td><td>-114.0125</td><td>Long Term</td><td>Townhouse</td><td>2095</td><td>2 Beds</td><td>2.5</td><td>1403</td><td>Unfurnished</td><td>November 18</td><td>Non-Smoking</td><td>True</td><td>True</td></tr>\n",
       "\t<tr><th scope=row>5</th><td>468622</td><td>Airdrie</td><td>Alberta</td><td>69 Gateway Dr NE</td><td>51.30596</td><td>-114.0125</td><td>Long Term</td><td>Townhouse</td><td>2495</td><td>2 Beds</td><td>2.5</td><td>1403</td><td>Unfurnished</td><td>Immediate  </td><td>Non-Smoking</td><td>True</td><td>True</td></tr>\n",
       "\t<tr><th scope=row>6</th><td>468622</td><td>Airdrie</td><td>Alberta</td><td>69 Gateway Dr NE</td><td>51.30596</td><td>-114.0125</td><td>Long Term</td><td>Townhouse</td><td>2095</td><td>2 Beds</td><td>2.5</td><td>1403</td><td>Unfurnished</td><td>November 18</td><td>Non-Smoking</td><td>True</td><td>True</td></tr>\n",
       "</tbody>\n",
       "</table>\n"
      ],
      "text/latex": [
       "A data.frame: 6 × 17\n",
       "\\begin{tabular}{r|lllllllllllllllll}\n",
       "  & rentfaster\\_id & city & province & address & latitude & longitude & lease\\_term & type & price & beds & baths & sq\\_feet & furnishing & availability\\_date & smoking & cats & dogs\\\\\n",
       "  & <int> & <chr> & <chr> & <chr> & <dbl> & <dbl> & <chr> & <chr> & <dbl> & <chr> & <chr> & <chr> & <chr> & <chr> & <chr> & <chr> & <chr>\\\\\n",
       "\\hline\n",
       "\t1 & 468622 & Airdrie & Alberta & 69 Gateway Dr NE & 51.30596 & -114.0125 & Long Term & Townhouse & 2495 & 2 Beds & 2.5 & 1403 & Unfurnished & Immediate   & Non-Smoking & True & True\\\\\n",
       "\t2 & 468622 & Airdrie & Alberta & 69 Gateway Dr NE & 51.30596 & -114.0125 & Long Term & Townhouse & 2695 & 3 Beds & 2.5 & 1496 & Unfurnished & Immediate   & Non-Smoking & True & True\\\\\n",
       "\t3 & 468622 & Airdrie & Alberta & 69 Gateway Dr NE & 51.30596 & -114.0125 & Long Term & Townhouse & 2295 & 2 Beds & 2.5 & 1180 & Unfurnished & Immediate   & Non-Smoking & True & True\\\\\n",
       "\t4 & 468622 & Airdrie & Alberta & 69 Gateway Dr NE & 51.30596 & -114.0125 & Long Term & Townhouse & 2095 & 2 Beds & 2.5 & 1403 & Unfurnished & November 18 & Non-Smoking & True & True\\\\\n",
       "\t5 & 468622 & Airdrie & Alberta & 69 Gateway Dr NE & 51.30596 & -114.0125 & Long Term & Townhouse & 2495 & 2 Beds & 2.5 & 1403 & Unfurnished & Immediate   & Non-Smoking & True & True\\\\\n",
       "\t6 & 468622 & Airdrie & Alberta & 69 Gateway Dr NE & 51.30596 & -114.0125 & Long Term & Townhouse & 2095 & 2 Beds & 2.5 & 1403 & Unfurnished & November 18 & Non-Smoking & True & True\\\\\n",
       "\\end{tabular}\n"
      ],
      "text/markdown": [
       "\n",
       "A data.frame: 6 × 17\n",
       "\n",
       "| <!--/--> | rentfaster_id &lt;int&gt; | city &lt;chr&gt; | province &lt;chr&gt; | address &lt;chr&gt; | latitude &lt;dbl&gt; | longitude &lt;dbl&gt; | lease_term &lt;chr&gt; | type &lt;chr&gt; | price &lt;dbl&gt; | beds &lt;chr&gt; | baths &lt;chr&gt; | sq_feet &lt;chr&gt; | furnishing &lt;chr&gt; | availability_date &lt;chr&gt; | smoking &lt;chr&gt; | cats &lt;chr&gt; | dogs &lt;chr&gt; |\n",
       "|---|---|---|---|---|---|---|---|---|---|---|---|---|---|---|---|---|---|\n",
       "| 1 | 468622 | Airdrie | Alberta | 69 Gateway Dr NE | 51.30596 | -114.0125 | Long Term | Townhouse | 2495 | 2 Beds | 2.5 | 1403 | Unfurnished | Immediate   | Non-Smoking | True | True |\n",
       "| 2 | 468622 | Airdrie | Alberta | 69 Gateway Dr NE | 51.30596 | -114.0125 | Long Term | Townhouse | 2695 | 3 Beds | 2.5 | 1496 | Unfurnished | Immediate   | Non-Smoking | True | True |\n",
       "| 3 | 468622 | Airdrie | Alberta | 69 Gateway Dr NE | 51.30596 | -114.0125 | Long Term | Townhouse | 2295 | 2 Beds | 2.5 | 1180 | Unfurnished | Immediate   | Non-Smoking | True | True |\n",
       "| 4 | 468622 | Airdrie | Alberta | 69 Gateway Dr NE | 51.30596 | -114.0125 | Long Term | Townhouse | 2095 | 2 Beds | 2.5 | 1403 | Unfurnished | November 18 | Non-Smoking | True | True |\n",
       "| 5 | 468622 | Airdrie | Alberta | 69 Gateway Dr NE | 51.30596 | -114.0125 | Long Term | Townhouse | 2495 | 2 Beds | 2.5 | 1403 | Unfurnished | Immediate   | Non-Smoking | True | True |\n",
       "| 6 | 468622 | Airdrie | Alberta | 69 Gateway Dr NE | 51.30596 | -114.0125 | Long Term | Townhouse | 2095 | 2 Beds | 2.5 | 1403 | Unfurnished | November 18 | Non-Smoking | True | True |\n",
       "\n"
      ],
      "text/plain": [
       "  rentfaster_id city    province address          latitude longitude lease_term\n",
       "1 468622        Airdrie Alberta  69 Gateway Dr NE 51.30596 -114.0125 Long Term \n",
       "2 468622        Airdrie Alberta  69 Gateway Dr NE 51.30596 -114.0125 Long Term \n",
       "3 468622        Airdrie Alberta  69 Gateway Dr NE 51.30596 -114.0125 Long Term \n",
       "4 468622        Airdrie Alberta  69 Gateway Dr NE 51.30596 -114.0125 Long Term \n",
       "5 468622        Airdrie Alberta  69 Gateway Dr NE 51.30596 -114.0125 Long Term \n",
       "6 468622        Airdrie Alberta  69 Gateway Dr NE 51.30596 -114.0125 Long Term \n",
       "  type      price beds   baths sq_feet furnishing  availability_date\n",
       "1 Townhouse 2495  2 Beds 2.5   1403    Unfurnished Immediate        \n",
       "2 Townhouse 2695  3 Beds 2.5   1496    Unfurnished Immediate        \n",
       "3 Townhouse 2295  2 Beds 2.5   1180    Unfurnished Immediate        \n",
       "4 Townhouse 2095  2 Beds 2.5   1403    Unfurnished November 18      \n",
       "5 Townhouse 2495  2 Beds 2.5   1403    Unfurnished Immediate        \n",
       "6 Townhouse 2095  2 Beds 2.5   1403    Unfurnished November 18      \n",
       "  smoking     cats dogs\n",
       "1 Non-Smoking True True\n",
       "2 Non-Smoking True True\n",
       "3 Non-Smoking True True\n",
       "4 Non-Smoking True True\n",
       "5 Non-Smoking True True\n",
       "6 Non-Smoking True True"
      ]
     },
     "metadata": {},
     "output_type": "display_data"
    }
   ],
   "source": [
    "CanadaRent_dataset <- read.csv(\"rentfaster.csv\") %>%\n",
    "select(-link)\n",
    "\n",
    "head(CanadaRent_dataset)"
   ]
  },
  {
   "cell_type": "markdown",
   "id": "376b9276-63e3-4099-a3dd-1b9358820f7c",
   "metadata": {},
   "source": [
    "### Project objective:\n",
    "\n",
    "The real estate market is a critical driver of economic activity and a significant factor in determining quality of life. This project focuses on comparing housing prices in Vancouver and Calgary, two major Canadian cities with distinct economic landscapes and housing markets. Vancouver, known for its scenic beauty and global appeal, consistently ranks as one of the most expensive cities in Canada(1). Calgary, on the other hand, offers a comparatively affordable market, driven by its strong ties to the energy sector and a growing urban population(2). This analysis aims to explore the factors influencing housing prices in these cities, identify key trends, and assess how economic, geographic, and demographic differences shape their respective housing markets and determine if the housing markets in both cities are different."
   ]
  },
  {
   "cell_type": "markdown",
   "id": "aa97a6e4-c37e-4206-a880-277893364117",
   "metadata": {},
   "source": [
    "### Data Description:\n",
    "\n",
    "The data provided was pulled from kaggle which were from pulle from the website https://www.rentfaster.com using python libraries. This data set contains real estate listing in Canada broken by provinces and Cities. This data set contains 25000+ entries with 17 columns:\n",
    "\n",
    "rentfaster_id <- id of property on https://www.rentfaster.com\n",
    "\n",
    "city <- city of the property eg. Vancouver, Calgary, Toronto etc\n",
    "\n",
    "province <- province of property eg. Alberta, British Columbia, Ontario etc\n",
    "\n",
    "address <- address of the rental properties\n",
    "\n",
    "latitude <- latitude coordinates of the property\n",
    "\n",
    "longtitude <- longtitude coordinates of the property\n",
    "\n",
    "lease_term <- rental period of the property eg. Long Term, Negotiable, 12 months etc\n",
    "\n",
    "type <- type of property eg. Apartment, house etc\n",
    "\n",
    "price <- price of the rental property (this will be the response variable of interest)\n",
    "\n",
    "bed <- number of beds in the property or a studio, if it is a studio we will define that as a 1 bedroom\n",
    "\n",
    "baths <- number of bath in the property \n",
    "\n",
    "sq_feet <- property area in square feet\n",
    "\n",
    "furnishing <- if the property is furnished or not\n",
    "\n",
    "availability_date <- availability of the property eg. immediate, Date etc\n",
    "\n",
    "smoking <- if smoking is prohibited the property\n",
    "\n",
    "cats <- if cats are permitted in the property\n",
    "\n",
    "dogs <- if dogs are permitted in the property."
   ]
  },
  {
   "cell_type": "markdown",
   "id": "ce80b2b8-fb56-4668-bbd4-676105cccca0",
   "metadata": {},
   "source": [
    "Before proceeding with the Analysis it is necessary to clean and wrange the data so that it is easier to wrok with. This would involved converting any categorical variables to binary for example, in the data set the category beds is separated into categorical variables (1 bed, 2 bed) which can be converted into numerical values. It would also involve removing any unnecessary variables such as rentfaster_id and address"
   ]
  },
  {
   "cell_type": "code",
   "execution_count": 8,
   "id": "22a96a7c-c2b1-4998-9f0c-e7cc94ee2144",
   "metadata": {},
   "outputs": [
    {
     "data": {
      "text/html": [
       "<table class=\"dataframe\">\n",
       "<caption>A data.frame: 3 × 17</caption>\n",
       "<thead>\n",
       "\t<tr><th></th><th scope=col>rentfaster_id</th><th scope=col>city</th><th scope=col>province</th><th scope=col>address</th><th scope=col>latitude</th><th scope=col>longitude</th><th scope=col>lease_term</th><th scope=col>type</th><th scope=col>price</th><th scope=col>beds</th><th scope=col>baths</th><th scope=col>sq_feet</th><th scope=col>furnishing</th><th scope=col>availability_date</th><th scope=col>smoking</th><th scope=col>cats</th><th scope=col>dogs</th></tr>\n",
       "\t<tr><th></th><th scope=col>&lt;int&gt;</th><th scope=col>&lt;chr&gt;</th><th scope=col>&lt;chr&gt;</th><th scope=col>&lt;chr&gt;</th><th scope=col>&lt;dbl&gt;</th><th scope=col>&lt;dbl&gt;</th><th scope=col>&lt;chr&gt;</th><th scope=col>&lt;chr&gt;</th><th scope=col>&lt;dbl&gt;</th><th scope=col>&lt;chr&gt;</th><th scope=col>&lt;chr&gt;</th><th scope=col>&lt;chr&gt;</th><th scope=col>&lt;chr&gt;</th><th scope=col>&lt;chr&gt;</th><th scope=col>&lt;chr&gt;</th><th scope=col>&lt;chr&gt;</th><th scope=col>&lt;chr&gt;</th></tr>\n",
       "</thead>\n",
       "<tbody>\n",
       "\t<tr><th scope=row>1</th><td>571702</td><td>Calgary</td><td>Alberta</td><td>1055 11 Street SW</td><td>51.04338</td><td>-114.089</td><td>Long Term</td><td>Apartment</td><td>1725</td><td>1 Bed </td><td>1</td><td>483</td><td>Unfurnished</td><td>Immediate</td><td>Non-Smoking</td><td>True</td><td>True</td></tr>\n",
       "\t<tr><th scope=row>2</th><td>571702</td><td>Calgary</td><td>Alberta</td><td>1055 11 Street SW</td><td>51.04338</td><td>-114.089</td><td>Long Term</td><td>Apartment</td><td>1875</td><td>1 Bed </td><td>1</td><td>527</td><td>Unfurnished</td><td>Immediate</td><td>Non-Smoking</td><td>True</td><td>True</td></tr>\n",
       "\t<tr><th scope=row>3</th><td>571702</td><td>Calgary</td><td>Alberta</td><td>1055 11 Street SW</td><td>51.04338</td><td>-114.089</td><td>Long Term</td><td>Apartment</td><td>2400</td><td>2 Beds</td><td>2</td><td>854</td><td>Unfurnished</td><td>Immediate</td><td>Non-Smoking</td><td>True</td><td>True</td></tr>\n",
       "</tbody>\n",
       "</table>\n"
      ],
      "text/latex": [
       "A data.frame: 3 × 17\n",
       "\\begin{tabular}{r|lllllllllllllllll}\n",
       "  & rentfaster\\_id & city & province & address & latitude & longitude & lease\\_term & type & price & beds & baths & sq\\_feet & furnishing & availability\\_date & smoking & cats & dogs\\\\\n",
       "  & <int> & <chr> & <chr> & <chr> & <dbl> & <dbl> & <chr> & <chr> & <dbl> & <chr> & <chr> & <chr> & <chr> & <chr> & <chr> & <chr> & <chr>\\\\\n",
       "\\hline\n",
       "\t1 & 571702 & Calgary & Alberta & 1055 11 Street SW & 51.04338 & -114.089 & Long Term & Apartment & 1725 & 1 Bed  & 1 & 483 & Unfurnished & Immediate & Non-Smoking & True & True\\\\\n",
       "\t2 & 571702 & Calgary & Alberta & 1055 11 Street SW & 51.04338 & -114.089 & Long Term & Apartment & 1875 & 1 Bed  & 1 & 527 & Unfurnished & Immediate & Non-Smoking & True & True\\\\\n",
       "\t3 & 571702 & Calgary & Alberta & 1055 11 Street SW & 51.04338 & -114.089 & Long Term & Apartment & 2400 & 2 Beds & 2 & 854 & Unfurnished & Immediate & Non-Smoking & True & True\\\\\n",
       "\\end{tabular}\n"
      ],
      "text/markdown": [
       "\n",
       "A data.frame: 3 × 17\n",
       "\n",
       "| <!--/--> | rentfaster_id &lt;int&gt; | city &lt;chr&gt; | province &lt;chr&gt; | address &lt;chr&gt; | latitude &lt;dbl&gt; | longitude &lt;dbl&gt; | lease_term &lt;chr&gt; | type &lt;chr&gt; | price &lt;dbl&gt; | beds &lt;chr&gt; | baths &lt;chr&gt; | sq_feet &lt;chr&gt; | furnishing &lt;chr&gt; | availability_date &lt;chr&gt; | smoking &lt;chr&gt; | cats &lt;chr&gt; | dogs &lt;chr&gt; |\n",
       "|---|---|---|---|---|---|---|---|---|---|---|---|---|---|---|---|---|---|\n",
       "| 1 | 571702 | Calgary | Alberta | 1055 11 Street SW | 51.04338 | -114.089 | Long Term | Apartment | 1725 | 1 Bed  | 1 | 483 | Unfurnished | Immediate | Non-Smoking | True | True |\n",
       "| 2 | 571702 | Calgary | Alberta | 1055 11 Street SW | 51.04338 | -114.089 | Long Term | Apartment | 1875 | 1 Bed  | 1 | 527 | Unfurnished | Immediate | Non-Smoking | True | True |\n",
       "| 3 | 571702 | Calgary | Alberta | 1055 11 Street SW | 51.04338 | -114.089 | Long Term | Apartment | 2400 | 2 Beds | 2 | 854 | Unfurnished | Immediate | Non-Smoking | True | True |\n",
       "\n"
      ],
      "text/plain": [
       "  rentfaster_id city    province address           latitude longitude\n",
       "1 571702        Calgary Alberta  1055 11 Street SW 51.04338 -114.089 \n",
       "2 571702        Calgary Alberta  1055 11 Street SW 51.04338 -114.089 \n",
       "3 571702        Calgary Alberta  1055 11 Street SW 51.04338 -114.089 \n",
       "  lease_term type      price beds   baths sq_feet furnishing  availability_date\n",
       "1 Long Term  Apartment 1725  1 Bed  1     483     Unfurnished Immediate        \n",
       "2 Long Term  Apartment 1875  1 Bed  1     527     Unfurnished Immediate        \n",
       "3 Long Term  Apartment 2400  2 Beds 2     854     Unfurnished Immediate        \n",
       "  smoking     cats dogs\n",
       "1 Non-Smoking True True\n",
       "2 Non-Smoking True True\n",
       "3 Non-Smoking True True"
      ]
     },
     "metadata": {},
     "output_type": "display_data"
    },
    {
     "data": {
      "text/html": [
       "9836"
      ],
      "text/latex": [
       "9836"
      ],
      "text/markdown": [
       "9836"
      ],
      "text/plain": [
       "[1] 9836"
      ]
     },
     "metadata": {},
     "output_type": "display_data"
    }
   ],
   "source": [
    "# obtain city rental prices\n",
    "Calgary_rent <- CanadaRent_dataset%>%\n",
    "filter(city == \"Calgary\")\n",
    "\n",
    "head(Calgary_rent,3)\n",
    "nrow(Calgary_rent)"
   ]
  },
  {
   "cell_type": "code",
   "execution_count": 37,
   "id": "24ba9501-b7ef-48d9-8ad6-a93aac94a8e8",
   "metadata": {},
   "outputs": [
    {
     "name": "stderr",
     "output_type": "stream",
     "text": [
      "Warning message:\n",
      "“\u001b[1m\u001b[22mThere was 1 warning in `filter()`.\n",
      "\u001b[1m\u001b[22m\u001b[36mℹ\u001b[39m In argument: `sq_feet == as.integer(sq_feet) & sq_feet > 0`.\n",
      "Caused by warning:\n",
      "\u001b[33m!\u001b[39m NAs introduced by coercion”\n"
     ]
    },
    {
     "data": {
      "text/html": [
       "<table class=\"dataframe\">\n",
       "<caption>A data.frame: 3 × 13</caption>\n",
       "<thead>\n",
       "\t<tr><th></th><th scope=col>city</th><th scope=col>province</th><th scope=col>lease_term</th><th scope=col>type</th><th scope=col>price</th><th scope=col>beds</th><th scope=col>baths</th><th scope=col>sq_feet</th><th scope=col>furnishing</th><th scope=col>availability_date</th><th scope=col>smoking</th><th scope=col>cats</th><th scope=col>dogs</th></tr>\n",
       "\t<tr><th></th><th scope=col>&lt;chr&gt;</th><th scope=col>&lt;chr&gt;</th><th scope=col>&lt;chr&gt;</th><th scope=col>&lt;chr&gt;</th><th scope=col>&lt;dbl&gt;</th><th scope=col>&lt;dbl&gt;</th><th scope=col>&lt;chr&gt;</th><th scope=col>&lt;chr&gt;</th><th scope=col>&lt;dbl&gt;</th><th scope=col>&lt;chr&gt;</th><th scope=col>&lt;dbl&gt;</th><th scope=col>&lt;dbl&gt;</th><th scope=col>&lt;dbl&gt;</th></tr>\n",
       "</thead>\n",
       "<tbody>\n",
       "\t<tr><th scope=row>1</th><td>Calgary</td><td>Alberta</td><td>Long Term</td><td>Apartment</td><td>1725</td><td>1</td><td>1</td><td>483</td><td>0</td><td>Immediate</td><td>0</td><td>1</td><td>1</td></tr>\n",
       "\t<tr><th scope=row>2</th><td>Calgary</td><td>Alberta</td><td>Long Term</td><td>Apartment</td><td>1875</td><td>1</td><td>1</td><td>527</td><td>0</td><td>Immediate</td><td>0</td><td>1</td><td>1</td></tr>\n",
       "\t<tr><th scope=row>3</th><td>Calgary</td><td>Alberta</td><td>Long Term</td><td>Apartment</td><td>2400</td><td>2</td><td>2</td><td>854</td><td>0</td><td>Immediate</td><td>0</td><td>1</td><td>1</td></tr>\n",
       "</tbody>\n",
       "</table>\n"
      ],
      "text/latex": [
       "A data.frame: 3 × 13\n",
       "\\begin{tabular}{r|lllllllllllll}\n",
       "  & city & province & lease\\_term & type & price & beds & baths & sq\\_feet & furnishing & availability\\_date & smoking & cats & dogs\\\\\n",
       "  & <chr> & <chr> & <chr> & <chr> & <dbl> & <dbl> & <chr> & <chr> & <dbl> & <chr> & <dbl> & <dbl> & <dbl>\\\\\n",
       "\\hline\n",
       "\t1 & Calgary & Alberta & Long Term & Apartment & 1725 & 1 & 1 & 483 & 0 & Immediate & 0 & 1 & 1\\\\\n",
       "\t2 & Calgary & Alberta & Long Term & Apartment & 1875 & 1 & 1 & 527 & 0 & Immediate & 0 & 1 & 1\\\\\n",
       "\t3 & Calgary & Alberta & Long Term & Apartment & 2400 & 2 & 2 & 854 & 0 & Immediate & 0 & 1 & 1\\\\\n",
       "\\end{tabular}\n"
      ],
      "text/markdown": [
       "\n",
       "A data.frame: 3 × 13\n",
       "\n",
       "| <!--/--> | city &lt;chr&gt; | province &lt;chr&gt; | lease_term &lt;chr&gt; | type &lt;chr&gt; | price &lt;dbl&gt; | beds &lt;dbl&gt; | baths &lt;chr&gt; | sq_feet &lt;chr&gt; | furnishing &lt;dbl&gt; | availability_date &lt;chr&gt; | smoking &lt;dbl&gt; | cats &lt;dbl&gt; | dogs &lt;dbl&gt; |\n",
       "|---|---|---|---|---|---|---|---|---|---|---|---|---|---|\n",
       "| 1 | Calgary | Alberta | Long Term | Apartment | 1725 | 1 | 1 | 483 | 0 | Immediate | 0 | 1 | 1 |\n",
       "| 2 | Calgary | Alberta | Long Term | Apartment | 1875 | 1 | 1 | 527 | 0 | Immediate | 0 | 1 | 1 |\n",
       "| 3 | Calgary | Alberta | Long Term | Apartment | 2400 | 2 | 2 | 854 | 0 | Immediate | 0 | 1 | 1 |\n",
       "\n"
      ],
      "text/plain": [
       "  city    province lease_term type      price beds baths sq_feet furnishing\n",
       "1 Calgary Alberta  Long Term  Apartment 1725  1    1     483     0         \n",
       "2 Calgary Alberta  Long Term  Apartment 1875  1    1     527     0         \n",
       "3 Calgary Alberta  Long Term  Apartment 2400  2    2     854     0         \n",
       "  availability_date smoking cats dogs\n",
       "1 Immediate         0       1    1   \n",
       "2 Immediate         0       1    1   \n",
       "3 Immediate         0       1    1   "
      ]
     },
     "metadata": {},
     "output_type": "display_data"
    }
   ],
   "source": [
    "Calgary_rent_clean <- Calgary_rent %>% \n",
    "select(-rentfaster_id, -address, -latitude, - longitude)%>% # removes unnecessary variables\n",
    "mutate(furnishing = trimws(furnishing))%>% #remove any spaces in each entry\n",
    "mutate(furnishing = ifelse(furnishing == \"Unfurnished\", 0, 1))%>% # converts furnishing to binary variables, 1 indicating it is furnished 0, otherwise\n",
    "mutate(smoking = trimws(smoking))%>% #remove any spaces in each entry\n",
    "mutate(smoking = ifelse(smoking == \"Non-Smoking\", 0 , 1)) %>%# converts smoking to binary 1 indicating smoking, 0 indicating non-smokin\n",
    "mutate(cats = trimws(cats))%>%#remove any spaces in each entry\n",
    "mutate(cats = ifelse(cats == \"True\", 1 , 0))%>%# converts cats to binary 1 indicating permitted, 0 indicating prohibited\n",
    "mutate(dogs = trimws(dogs))%>%#remove any spaces in each entry\n",
    "mutate(dogs = ifelse(dogs == \"True\", 1 , 0)) %>%# converts dogs to binary 1 indicating permitted, 0 indicating prohibited\n",
    "mutate(beds = trimws(beds))%>%#remove any spaces in each entry\n",
    "mutate(beds = ifelse(beds == \"Studio\", 1 , as.numeric(str_extract(beds, \"\\\\d+\"))))%>%# converts beds to numerical entries, if it is a studio beds = 1\n",
    "na.omit()%>%\n",
    "filter(sq_feet == as.integer(sq_feet) & sq_feet>0)\n",
    "\n",
    "\n",
    "\n",
    "head(Calgary_rent_clean,3)\n"
   ]
  },
  {
   "cell_type": "code",
   "execution_count": null,
   "id": "87e291cf-613d-45f0-91c2-f03a3db267d7",
   "metadata": {},
   "outputs": [],
   "source": []
  },
  {
   "cell_type": "markdown",
   "id": "84509bb4-7f55-4a39-90cf-a0071ce6174d",
   "metadata": {},
   "source": [
    "Now to do the same with Vancouver"
   ]
  },
  {
   "cell_type": "code",
   "execution_count": 24,
   "id": "fe0507c6-fdc6-4ff0-af95-7c850bd0424e",
   "metadata": {},
   "outputs": [
    {
     "data": {
      "text/html": [
       "<table class=\"dataframe\">\n",
       "<caption>A data.frame: 3 × 17</caption>\n",
       "<thead>\n",
       "\t<tr><th></th><th scope=col>rentfaster_id</th><th scope=col>city</th><th scope=col>province</th><th scope=col>address</th><th scope=col>latitude</th><th scope=col>longitude</th><th scope=col>lease_term</th><th scope=col>type</th><th scope=col>price</th><th scope=col>beds</th><th scope=col>baths</th><th scope=col>sq_feet</th><th scope=col>furnishing</th><th scope=col>availability_date</th><th scope=col>smoking</th><th scope=col>cats</th><th scope=col>dogs</th></tr>\n",
       "\t<tr><th></th><th scope=col>&lt;int&gt;</th><th scope=col>&lt;chr&gt;</th><th scope=col>&lt;chr&gt;</th><th scope=col>&lt;chr&gt;</th><th scope=col>&lt;dbl&gt;</th><th scope=col>&lt;dbl&gt;</th><th scope=col>&lt;chr&gt;</th><th scope=col>&lt;chr&gt;</th><th scope=col>&lt;dbl&gt;</th><th scope=col>&lt;chr&gt;</th><th scope=col>&lt;chr&gt;</th><th scope=col>&lt;chr&gt;</th><th scope=col>&lt;chr&gt;</th><th scope=col>&lt;chr&gt;</th><th scope=col>&lt;chr&gt;</th><th scope=col>&lt;chr&gt;</th><th scope=col>&lt;chr&gt;</th></tr>\n",
       "</thead>\n",
       "<tbody>\n",
       "\t<tr><th scope=row>1</th><td>544095</td><td>Vancouver</td><td>British Columbia</td><td>1770 Pendrell Street</td><td>49.28746</td><td>-123.1405</td><td>Long Term</td><td>Apartment</td><td>3895</td><td>2 Beds</td><td>2</td><td>820</td><td>Unfurnished</td><td>Immediate</td><td>Non-Smoking</td><td>True</td><td>True</td></tr>\n",
       "\t<tr><th scope=row>2</th><td>544095</td><td>Vancouver</td><td>British Columbia</td><td>1770 Pendrell Street</td><td>49.28746</td><td>-123.1405</td><td>Long Term</td><td>Apartment</td><td>2695</td><td>Studio</td><td>1</td><td>440</td><td>Unfurnished</td><td>Immediate</td><td>Non-Smoking</td><td>True</td><td>True</td></tr>\n",
       "\t<tr><th scope=row>3</th><td>544095</td><td>Vancouver</td><td>British Columbia</td><td>1770 Pendrell Street</td><td>49.28746</td><td>-123.1405</td><td>Long Term</td><td>Apartment</td><td>4395</td><td>2 Beds</td><td>2</td><td>   </td><td>Unfurnished</td><td>Immediate</td><td>Non-Smoking</td><td>True</td><td>True</td></tr>\n",
       "</tbody>\n",
       "</table>\n"
      ],
      "text/latex": [
       "A data.frame: 3 × 17\n",
       "\\begin{tabular}{r|lllllllllllllllll}\n",
       "  & rentfaster\\_id & city & province & address & latitude & longitude & lease\\_term & type & price & beds & baths & sq\\_feet & furnishing & availability\\_date & smoking & cats & dogs\\\\\n",
       "  & <int> & <chr> & <chr> & <chr> & <dbl> & <dbl> & <chr> & <chr> & <dbl> & <chr> & <chr> & <chr> & <chr> & <chr> & <chr> & <chr> & <chr>\\\\\n",
       "\\hline\n",
       "\t1 & 544095 & Vancouver & British Columbia & 1770 Pendrell Street & 49.28746 & -123.1405 & Long Term & Apartment & 3895 & 2 Beds & 2 & 820 & Unfurnished & Immediate & Non-Smoking & True & True\\\\\n",
       "\t2 & 544095 & Vancouver & British Columbia & 1770 Pendrell Street & 49.28746 & -123.1405 & Long Term & Apartment & 2695 & Studio & 1 & 440 & Unfurnished & Immediate & Non-Smoking & True & True\\\\\n",
       "\t3 & 544095 & Vancouver & British Columbia & 1770 Pendrell Street & 49.28746 & -123.1405 & Long Term & Apartment & 4395 & 2 Beds & 2 &     & Unfurnished & Immediate & Non-Smoking & True & True\\\\\n",
       "\\end{tabular}\n"
      ],
      "text/markdown": [
       "\n",
       "A data.frame: 3 × 17\n",
       "\n",
       "| <!--/--> | rentfaster_id &lt;int&gt; | city &lt;chr&gt; | province &lt;chr&gt; | address &lt;chr&gt; | latitude &lt;dbl&gt; | longitude &lt;dbl&gt; | lease_term &lt;chr&gt; | type &lt;chr&gt; | price &lt;dbl&gt; | beds &lt;chr&gt; | baths &lt;chr&gt; | sq_feet &lt;chr&gt; | furnishing &lt;chr&gt; | availability_date &lt;chr&gt; | smoking &lt;chr&gt; | cats &lt;chr&gt; | dogs &lt;chr&gt; |\n",
       "|---|---|---|---|---|---|---|---|---|---|---|---|---|---|---|---|---|---|\n",
       "| 1 | 544095 | Vancouver | British Columbia | 1770 Pendrell Street | 49.28746 | -123.1405 | Long Term | Apartment | 3895 | 2 Beds | 2 | 820 | Unfurnished | Immediate | Non-Smoking | True | True |\n",
       "| 2 | 544095 | Vancouver | British Columbia | 1770 Pendrell Street | 49.28746 | -123.1405 | Long Term | Apartment | 2695 | Studio | 1 | 440 | Unfurnished | Immediate | Non-Smoking | True | True |\n",
       "| 3 | 544095 | Vancouver | British Columbia | 1770 Pendrell Street | 49.28746 | -123.1405 | Long Term | Apartment | 4395 | 2 Beds | 2 | <!----> | Unfurnished | Immediate | Non-Smoking | True | True |\n",
       "\n"
      ],
      "text/plain": [
       "  rentfaster_id city      province         address              latitude\n",
       "1 544095        Vancouver British Columbia 1770 Pendrell Street 49.28746\n",
       "2 544095        Vancouver British Columbia 1770 Pendrell Street 49.28746\n",
       "3 544095        Vancouver British Columbia 1770 Pendrell Street 49.28746\n",
       "  longitude lease_term type      price beds   baths sq_feet furnishing \n",
       "1 -123.1405 Long Term  Apartment 3895  2 Beds 2     820     Unfurnished\n",
       "2 -123.1405 Long Term  Apartment 2695  Studio 1     440     Unfurnished\n",
       "3 -123.1405 Long Term  Apartment 4395  2 Beds 2             Unfurnished\n",
       "  availability_date smoking     cats dogs\n",
       "1 Immediate         Non-Smoking True True\n",
       "2 Immediate         Non-Smoking True True\n",
       "3 Immediate         Non-Smoking True True"
      ]
     },
     "metadata": {},
     "output_type": "display_data"
    },
    {
     "data": {
      "text/html": [
       "196"
      ],
      "text/latex": [
       "196"
      ],
      "text/markdown": [
       "196"
      ],
      "text/plain": [
       "[1] 196"
      ]
     },
     "metadata": {},
     "output_type": "display_data"
    }
   ],
   "source": [
    "Vancouver_rent <- CanadaRent_dataset%>%\n",
    "filter(city == \"Vancouver\")\n",
    "\n",
    "head(Vancouver_rent, 3)\n",
    "\n",
    "nrow(Vancouver_rent)"
   ]
  },
  {
   "cell_type": "code",
   "execution_count": 30,
   "id": "c88172ca-1cce-4588-8d28-98a28f70bd81",
   "metadata": {},
   "outputs": [
    {
     "name": "stderr",
     "output_type": "stream",
     "text": [
      "Warning message:\n",
      "“\u001b[1m\u001b[22mThere was 1 warning in `filter()`.\n",
      "\u001b[1m\u001b[22m\u001b[36mℹ\u001b[39m In argument: `sq_feet == as.integer(sq_feet) & sq_feet > 0`.\n",
      "Caused by warning:\n",
      "\u001b[33m!\u001b[39m NAs introduced by coercion”\n"
     ]
    },
    {
     "data": {
      "text/html": [
       "<table class=\"dataframe\">\n",
       "<caption>A data.frame: 3 × 13</caption>\n",
       "<thead>\n",
       "\t<tr><th></th><th scope=col>city</th><th scope=col>province</th><th scope=col>lease_term</th><th scope=col>type</th><th scope=col>price</th><th scope=col>beds</th><th scope=col>baths</th><th scope=col>sq_feet</th><th scope=col>furnishing</th><th scope=col>availability_date</th><th scope=col>smoking</th><th scope=col>cats</th><th scope=col>dogs</th></tr>\n",
       "\t<tr><th></th><th scope=col>&lt;chr&gt;</th><th scope=col>&lt;chr&gt;</th><th scope=col>&lt;chr&gt;</th><th scope=col>&lt;chr&gt;</th><th scope=col>&lt;dbl&gt;</th><th scope=col>&lt;dbl&gt;</th><th scope=col>&lt;chr&gt;</th><th scope=col>&lt;chr&gt;</th><th scope=col>&lt;dbl&gt;</th><th scope=col>&lt;chr&gt;</th><th scope=col>&lt;dbl&gt;</th><th scope=col>&lt;dbl&gt;</th><th scope=col>&lt;dbl&gt;</th></tr>\n",
       "</thead>\n",
       "<tbody>\n",
       "\t<tr><th scope=row>1</th><td>Vancouver</td><td>British Columbia</td><td>Long Term</td><td>Apartment</td><td>3895</td><td>2</td><td>2</td><td>820</td><td>0</td><td>Immediate</td><td>0</td><td>1</td><td>1</td></tr>\n",
       "\t<tr><th scope=row>2</th><td>Vancouver</td><td>British Columbia</td><td>Long Term</td><td>Apartment</td><td>2695</td><td>1</td><td>1</td><td>440</td><td>0</td><td>Immediate</td><td>0</td><td>1</td><td>1</td></tr>\n",
       "\t<tr><th scope=row>3</th><td>Vancouver</td><td>British Columbia</td><td>Long Term</td><td>Apartment</td><td>3300</td><td>1</td><td>1</td><td>650</td><td>0</td><td>Immediate</td><td>0</td><td>1</td><td>1</td></tr>\n",
       "</tbody>\n",
       "</table>\n"
      ],
      "text/latex": [
       "A data.frame: 3 × 13\n",
       "\\begin{tabular}{r|lllllllllllll}\n",
       "  & city & province & lease\\_term & type & price & beds & baths & sq\\_feet & furnishing & availability\\_date & smoking & cats & dogs\\\\\n",
       "  & <chr> & <chr> & <chr> & <chr> & <dbl> & <dbl> & <chr> & <chr> & <dbl> & <chr> & <dbl> & <dbl> & <dbl>\\\\\n",
       "\\hline\n",
       "\t1 & Vancouver & British Columbia & Long Term & Apartment & 3895 & 2 & 2 & 820 & 0 & Immediate & 0 & 1 & 1\\\\\n",
       "\t2 & Vancouver & British Columbia & Long Term & Apartment & 2695 & 1 & 1 & 440 & 0 & Immediate & 0 & 1 & 1\\\\\n",
       "\t3 & Vancouver & British Columbia & Long Term & Apartment & 3300 & 1 & 1 & 650 & 0 & Immediate & 0 & 1 & 1\\\\\n",
       "\\end{tabular}\n"
      ],
      "text/markdown": [
       "\n",
       "A data.frame: 3 × 13\n",
       "\n",
       "| <!--/--> | city &lt;chr&gt; | province &lt;chr&gt; | lease_term &lt;chr&gt; | type &lt;chr&gt; | price &lt;dbl&gt; | beds &lt;dbl&gt; | baths &lt;chr&gt; | sq_feet &lt;chr&gt; | furnishing &lt;dbl&gt; | availability_date &lt;chr&gt; | smoking &lt;dbl&gt; | cats &lt;dbl&gt; | dogs &lt;dbl&gt; |\n",
       "|---|---|---|---|---|---|---|---|---|---|---|---|---|---|\n",
       "| 1 | Vancouver | British Columbia | Long Term | Apartment | 3895 | 2 | 2 | 820 | 0 | Immediate | 0 | 1 | 1 |\n",
       "| 2 | Vancouver | British Columbia | Long Term | Apartment | 2695 | 1 | 1 | 440 | 0 | Immediate | 0 | 1 | 1 |\n",
       "| 3 | Vancouver | British Columbia | Long Term | Apartment | 3300 | 1 | 1 | 650 | 0 | Immediate | 0 | 1 | 1 |\n",
       "\n"
      ],
      "text/plain": [
       "  city      province         lease_term type      price beds baths sq_feet\n",
       "1 Vancouver British Columbia Long Term  Apartment 3895  2    2     820    \n",
       "2 Vancouver British Columbia Long Term  Apartment 2695  1    1     440    \n",
       "3 Vancouver British Columbia Long Term  Apartment 3300  1    1     650    \n",
       "  furnishing availability_date smoking cats dogs\n",
       "1 0          Immediate         0       1    1   \n",
       "2 0          Immediate         0       1    1   \n",
       "3 0          Immediate         0       1    1   "
      ]
     },
     "metadata": {},
     "output_type": "display_data"
    }
   ],
   "source": [
    "Vancouver_rent_clean <- Vancouver_rent %>% \n",
    "select(-rentfaster_id, -address, -latitude, - longitude)%>% # removes unnecessary variables\n",
    "mutate(furnishing = trimws(furnishing))%>% #remove any spaces in each entry\n",
    "mutate(furnishing = ifelse(furnishing == \"Unfurnished\", 0, 1))%>% # converts furnishing to binary variables, 1 indicating it is furnished 0, otherwise\n",
    "mutate(smoking = trimws(smoking))%>% #remove any spaces in each entry\n",
    "mutate(smoking = ifelse(smoking == \"Non-Smoking\", 0 , 1)) %>%# converts smoking to binary 1 indicating smoking, 0 indicating non-smokin\n",
    "mutate(cats = trimws(cats))%>%#remove any spaces in each entry\n",
    "mutate(cats = ifelse(cats == \"True\", 1 , 0))%>%# converts cats to binary 1 indicating permitted, 0 indicating prohibited\n",
    "mutate(dogs = trimws(dogs))%>%#remove any spaces in each entry\n",
    "mutate(dogs = ifelse(dogs == \"True\", 1 , 0)) %>%# converts dogs to binary 1 indicating permitted, 0 indicating prohibited\n",
    "mutate(beds = trimws(beds))%>%#remove any spaces in each entry\n",
    "mutate(beds = ifelse(beds == \"Studio\", 1 , as.numeric(str_extract(beds, \"\\\\d+\"))))%>%# converts beds to numerical entries, if it is a studio beds = 1\n",
    "na.omit()%>%\n",
    "filter(sq_feet == as.integer(sq_feet) & sq_feet>0) # removes entries that are not a singular numerical values\n",
    "\n",
    "\n",
    "\n",
    "head(Vancouver_rent_clean,3)"
   ]
  },
  {
   "cell_type": "code",
   "execution_count": 41,
   "id": "c881f0d3-775e-4b95-98f6-3eecaf537370",
   "metadata": {},
   "outputs": [
    {
     "data": {
      "text/html": [
       "<table class=\"dataframe\">\n",
       "<caption>A data.frame: 3 × 13</caption>\n",
       "<thead>\n",
       "\t<tr><th></th><th scope=col>city</th><th scope=col>province</th><th scope=col>lease_term</th><th scope=col>type</th><th scope=col>price</th><th scope=col>beds</th><th scope=col>baths</th><th scope=col>sq_feet</th><th scope=col>furnishing</th><th scope=col>availability_date</th><th scope=col>smoking</th><th scope=col>cats</th><th scope=col>dogs</th></tr>\n",
       "\t<tr><th></th><th scope=col>&lt;chr&gt;</th><th scope=col>&lt;chr&gt;</th><th scope=col>&lt;chr&gt;</th><th scope=col>&lt;chr&gt;</th><th scope=col>&lt;dbl&gt;</th><th scope=col>&lt;dbl&gt;</th><th scope=col>&lt;chr&gt;</th><th scope=col>&lt;chr&gt;</th><th scope=col>&lt;dbl&gt;</th><th scope=col>&lt;chr&gt;</th><th scope=col>&lt;dbl&gt;</th><th scope=col>&lt;dbl&gt;</th><th scope=col>&lt;dbl&gt;</th></tr>\n",
       "</thead>\n",
       "<tbody>\n",
       "\t<tr><th scope=row>1</th><td>Calgary</td><td>Alberta</td><td>Long Term </td><td>House        </td><td>2700</td><td>4</td><td>2</td><td>1800</td><td>0</td><td>Immediate</td><td>0</td><td>1</td><td>1</td></tr>\n",
       "\t<tr><th scope=row>2</th><td>Calgary</td><td>Alberta</td><td>Negotiable</td><td>Room For Rent</td><td> 800</td><td>1</td><td>1</td><td>2500</td><td>1</td><td>Immediate</td><td>0</td><td>0</td><td>0</td></tr>\n",
       "\t<tr><th scope=row>3</th><td>Calgary</td><td>Alberta</td><td>Long Term </td><td>Apartment    </td><td>1575</td><td>1</td><td>1</td><td>550 </td><td>0</td><td>July 01  </td><td>0</td><td>0</td><td>0</td></tr>\n",
       "</tbody>\n",
       "</table>\n"
      ],
      "text/latex": [
       "A data.frame: 3 × 13\n",
       "\\begin{tabular}{r|lllllllllllll}\n",
       "  & city & province & lease\\_term & type & price & beds & baths & sq\\_feet & furnishing & availability\\_date & smoking & cats & dogs\\\\\n",
       "  & <chr> & <chr> & <chr> & <chr> & <dbl> & <dbl> & <chr> & <chr> & <dbl> & <chr> & <dbl> & <dbl> & <dbl>\\\\\n",
       "\\hline\n",
       "\t1 & Calgary & Alberta & Long Term  & House         & 2700 & 4 & 2 & 1800 & 0 & Immediate & 0 & 1 & 1\\\\\n",
       "\t2 & Calgary & Alberta & Negotiable & Room For Rent &  800 & 1 & 1 & 2500 & 1 & Immediate & 0 & 0 & 0\\\\\n",
       "\t3 & Calgary & Alberta & Long Term  & Apartment     & 1575 & 1 & 1 & 550  & 0 & July 01   & 0 & 0 & 0\\\\\n",
       "\\end{tabular}\n"
      ],
      "text/markdown": [
       "\n",
       "A data.frame: 3 × 13\n",
       "\n",
       "| <!--/--> | city &lt;chr&gt; | province &lt;chr&gt; | lease_term &lt;chr&gt; | type &lt;chr&gt; | price &lt;dbl&gt; | beds &lt;dbl&gt; | baths &lt;chr&gt; | sq_feet &lt;chr&gt; | furnishing &lt;dbl&gt; | availability_date &lt;chr&gt; | smoking &lt;dbl&gt; | cats &lt;dbl&gt; | dogs &lt;dbl&gt; |\n",
       "|---|---|---|---|---|---|---|---|---|---|---|---|---|---|\n",
       "| 1 | Calgary | Alberta | Long Term  | House         | 2700 | 4 | 2 | 1800 | 0 | Immediate | 0 | 1 | 1 |\n",
       "| 2 | Calgary | Alberta | Negotiable | Room For Rent |  800 | 1 | 1 | 2500 | 1 | Immediate | 0 | 0 | 0 |\n",
       "| 3 | Calgary | Alberta | Long Term  | Apartment     | 1575 | 1 | 1 | 550  | 0 | July 01   | 0 | 0 | 0 |\n",
       "\n"
      ],
      "text/plain": [
       "  city    province lease_term type          price beds baths sq_feet furnishing\n",
       "1 Calgary Alberta  Long Term  House         2700  4    2     1800    0         \n",
       "2 Calgary Alberta  Negotiable Room For Rent  800  1    1     2500    1         \n",
       "3 Calgary Alberta  Long Term  Apartment     1575  1    1     550     0         \n",
       "  availability_date smoking cats dogs\n",
       "1 Immediate         0       1    1   \n",
       "2 Immediate         0       0    0   \n",
       "3 July 01           0       0    0   "
      ]
     },
     "metadata": {},
     "output_type": "display_data"
    }
   ],
   "source": [
    "#take a sample of 50 for both cities\n",
    "\n",
    "set.seed(2345)\n",
    "\n",
    "Calgary_sample <- sample_n(Calgary_rent_clean,size =  50) # take a sample size of 50 in Calgary rent\n",
    "head(Calgary_sample, 3)\n",
    "\n",
    "Vancouver_sample <- sample_n(Vancouver_rent_clean,size =  50) # take a sample size of 50 in Vancouver rent"
   ]
  },
  {
   "cell_type": "code",
   "execution_count": 45,
   "id": "430b1a1e-5e64-4cf3-ab9e-363ac1ab4904",
   "metadata": {},
   "outputs": [
    {
     "data": {
      "text/html": [
       "<table class=\"dataframe\">\n",
       "<caption>A tibble: 1 × 10</caption>\n",
       "<thead>\n",
       "\t<tr><th scope=col>estimate</th><th scope=col>estimate1</th><th scope=col>estimate2</th><th scope=col>statistic</th><th scope=col>p.value</th><th scope=col>parameter</th><th scope=col>conf.low</th><th scope=col>conf.high</th><th scope=col>method</th><th scope=col>alternative</th></tr>\n",
       "\t<tr><th scope=col>&lt;dbl&gt;</th><th scope=col>&lt;dbl&gt;</th><th scope=col>&lt;dbl&gt;</th><th scope=col>&lt;dbl&gt;</th><th scope=col>&lt;dbl&gt;</th><th scope=col>&lt;dbl&gt;</th><th scope=col>&lt;dbl&gt;</th><th scope=col>&lt;dbl&gt;</th><th scope=col>&lt;chr&gt;</th><th scope=col>&lt;chr&gt;</th></tr>\n",
       "</thead>\n",
       "<tbody>\n",
       "\t<tr><td>522.8</td><td>3023.5</td><td>2500.7</td><td>3.056</td><td>0.001447756</td><td>97.26117</td><td>238.7034</td><td>Inf</td><td>Welch Two Sample t-test</td><td>greater</td></tr>\n",
       "</tbody>\n",
       "</table>\n"
      ],
      "text/latex": [
       "A tibble: 1 × 10\n",
       "\\begin{tabular}{llllllllll}\n",
       " estimate & estimate1 & estimate2 & statistic & p.value & parameter & conf.low & conf.high & method & alternative\\\\\n",
       " <dbl> & <dbl> & <dbl> & <dbl> & <dbl> & <dbl> & <dbl> & <dbl> & <chr> & <chr>\\\\\n",
       "\\hline\n",
       "\t 522.8 & 3023.5 & 2500.7 & 3.056 & 0.001447756 & 97.26117 & 238.7034 & Inf & Welch Two Sample t-test & greater\\\\\n",
       "\\end{tabular}\n"
      ],
      "text/markdown": [
       "\n",
       "A tibble: 1 × 10\n",
       "\n",
       "| estimate &lt;dbl&gt; | estimate1 &lt;dbl&gt; | estimate2 &lt;dbl&gt; | statistic &lt;dbl&gt; | p.value &lt;dbl&gt; | parameter &lt;dbl&gt; | conf.low &lt;dbl&gt; | conf.high &lt;dbl&gt; | method &lt;chr&gt; | alternative &lt;chr&gt; |\n",
       "|---|---|---|---|---|---|---|---|---|---|\n",
       "| 522.8 | 3023.5 | 2500.7 | 3.056 | 0.001447756 | 97.26117 | 238.7034 | Inf | Welch Two Sample t-test | greater |\n",
       "\n"
      ],
      "text/plain": [
       "  estimate estimate1 estimate2 statistic p.value     parameter conf.low\n",
       "t 522.8    3023.5    2500.7    3.056     0.001447756 97.26117  238.7034\n",
       "  conf.high method                  alternative\n",
       "t Inf       Welch Two Sample t-test greater    "
      ]
     },
     "metadata": {},
     "output_type": "display_data"
    }
   ],
   "source": [
    "Calgary_price <- Calgary_sample$price\n",
    "Vancouver_price <- Vancouver_sample$price\n",
    "\n",
    "\n",
    "\n",
    "\n",
    "tidy(t.test(Vancouver_price, Calgary_price, alternative = \"greater\", paired = FALSE, \n",
    "            mu = 0, var.equal = FALSE, conf.level = 0.95))"
   ]
  },
  {
   "cell_type": "code",
   "execution_count": null,
   "id": "9216d601-2915-4be5-a1f3-a4dde584d085",
   "metadata": {},
   "outputs": [],
   "source": []
  }
 ],
 "metadata": {
  "kernelspec": {
   "display_name": "R",
   "language": "R",
   "name": "ir"
  },
  "language_info": {
   "codemirror_mode": "r",
   "file_extension": ".r",
   "mimetype": "text/x-r-source",
   "name": "R",
   "pygments_lexer": "r",
   "version": "4.4.1"
  }
 },
 "nbformat": 4,
 "nbformat_minor": 5
}
